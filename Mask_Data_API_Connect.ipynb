{
  "nbformat": 4,
  "nbformat_minor": 0,
  "metadata": {
    "colab": {
      "provenance": [],
      "authorship_tag": "ABX9TyNzH1Ulq7lPS0kW2Pze5Q77",
      "include_colab_link": true
    },
    "kernelspec": {
      "name": "python3",
      "display_name": "Python 3"
    },
    "language_info": {
      "name": "python"
    }
  },
  "cells": [
    {
      "cell_type": "markdown",
      "metadata": {
        "id": "view-in-github",
        "colab_type": "text"
      },
      "source": [
        "<a href=\"https://colab.research.google.com/github/dawninwest/Mask-Data-API-Connect/blob/main/Mask_Data_API_Connect.ipynb\" target=\"_parent\"><img src=\"https://colab.research.google.com/assets/colab-badge.svg\" alt=\"Open In Colab\"/></a>"
      ]
    },
    {
      "cell_type": "code",
      "execution_count": 4,
      "metadata": {
        "colab": {
          "base_uri": "https://localhost:8080/"
        },
        "id": "uunC1_Ap_wLP",
        "outputId": "0eb8a6f7-0c90-4118-faf9-4c0e2e3987a7"
      },
      "outputs": [
        {
          "output_type": "stream",
          "name": "stdout",
          "text": [
            "{'臺北市': 340, '高雄市': 424, '臺中市': 436, '臺南市': 280, '基隆市': 57, '新竹市': 39, '嘉義市': 67, '新北市': 507, '桃園市': 271, '新竹縣': 48, '宜蘭縣': 76, '苗栗縣': 57, '彰化縣': 181, '南投縣': 67, '雲林縣': 131, '嘉義縣': 84, '屏東縣': 140, '澎湖縣': 11, '花蓮縣': 47, '臺東縣': 23, '金門縣': 6, '連江縣': 1}\n"
          ]
        }
      ],
      "source": [
        "import requests\n",
        "import json\n",
        "\n",
        "\n",
        "url =\"https://raw.githubusercontent.com/kiang/pharmacies/master/json/points.json\"\n",
        "response=requests.get(url)\n",
        "d=response.text\n",
        "data=json.loads(d)\n",
        "#print(data)\n",
        "\n",
        "med_count={}\n",
        "\n",
        "# 填入欄位名稱\n",
        "for d in data[\"features\"]:\n",
        "    county = d[\"properties\"][\"address\"][0:3]\n",
        "    if county not in med_count:\n",
        "         med_count[county] = 1\n",
        "    else:\n",
        "        med_count[county] += 1\n",
        "\n",
        "print(med_count)\n"
      ]
    }
  ]
}