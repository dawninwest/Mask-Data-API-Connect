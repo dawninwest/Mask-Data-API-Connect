{
  "nbformat": 4,
  "nbformat_minor": 0,
  "metadata": {
    "colab": {
      "provenance": [],
      "authorship_tag": "ABX9TyMwNrmQXmnzgDZOkmBpsOsy",
      "include_colab_link": true
    },
    "kernelspec": {
      "name": "python3",
      "display_name": "Python 3"
    },
    "language_info": {
      "name": "python"
    }
  },
  "cells": [
    {
      "cell_type": "markdown",
      "metadata": {
        "id": "view-in-github",
        "colab_type": "text"
      },
      "source": [
        "<a href=\"https://colab.research.google.com/github/dawninwest/Mask-Data-API-Connect/blob/main/Mask_Data_API_Connect.ipynb\" target=\"_parent\"><img src=\"https://colab.research.google.com/assets/colab-badge.svg\" alt=\"Open In Colab\"/></a>"
      ]
    },
    {
      "cell_type": "code",
      "execution_count": 1,
      "metadata": {
        "colab": {
          "base_uri": "https://localhost:8080/"
        },
        "id": "uunC1_Ap_wLP",
        "outputId": "49e67d98-5553-4754-c05a-1a8a89845fec"
      },
      "outputs": [
        {
          "output_type": "stream",
          "name": "stdout",
          "text": [
            "{'臺北市': 340, '高雄市': 424, '臺中市': 436, '臺南市': 280, '基隆市': 57, '新竹市': 39, '嘉義市': 67, '新北市': 507, '桃園市': 271, '新竹縣': 48, '宜蘭縣': 76, '苗栗縣': 57, '彰化縣': 181, '南投縣': 67, '雲林縣': 131, '嘉義縣': 84, '屏東縣': 140, '澎湖縣': 11, '花蓮縣': 47, '臺東縣': 23, '金門縣': 6, '連江縣': 1}\n",
            "{'新北市': 677660, '臺中市': 556440, '高雄市': 428940, '臺南市': 408400, '桃園市': 345600, '臺北市': 323660, '彰化縣': 219400, '雲林縣': 199470, '屏東縣': 184250, '苗栗縣': 134180, '嘉義縣': 113180, '嘉義市': 107840, '宜蘭縣': 106900, '南投縣': 91240, '基隆市': 80100, '花蓮縣': 57330, '新竹縣': 53760, '新竹市': 45630, '臺東縣': 28510, '金門縣': 15510, '澎湖縣': 12600, '連江縣': 7930}\n"
          ]
        }
      ],
      "source": [
        "import requests\n",
        "import json\n",
        "\n",
        "\n",
        "url =\"https://raw.githubusercontent.com/kiang/pharmacies/master/json/points.json\"\n",
        "response=requests.get(url)\n",
        "d=response.text\n",
        "data=json.loads(d)\n",
        "#print(data)\n",
        "\n",
        "med_count={}\n",
        "\n",
        "# 填入欄位名稱\n",
        "for d in data[\"features\"]:\n",
        "    county = d[\"properties\"][\"address\"][0:3]\n",
        "    if county not in med_count:\n",
        "         med_count[county] = 1\n",
        "    else:\n",
        "        med_count[county] += 1\n",
        "\n",
        "print(med_count)\n",
        "\n",
        "mask_count = {}\n",
        "\n",
        "for m in data[\"features\"]:\n",
        "    county = m[\"properties\"][\"address\"][0:3]\n",
        "    if county not in mask_count:\n",
        "        mask_count[county]=m[\"properties\"][\"mask_adult\"]\n",
        "    else:\n",
        "        mask_count[county]+=m[\"properties\"][\"mask_adult\"]\n",
        "        \n",
        "mask_count = dict(sorted(mask_count.items(), reverse=True, key=lambda item: item[1]))\n",
        "        \n",
        "print(mask_count)\n"
      ]
    }
  ]
}