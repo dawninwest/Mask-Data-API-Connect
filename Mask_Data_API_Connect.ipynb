{
  "nbformat": 4,
  "nbformat_minor": 0,
  "metadata": {
    "colab": {
      "provenance": [],
      "authorship_tag": "ABX9TyMfe31pa/Rg7h30mUUrOPQg",
      "include_colab_link": true
    },
    "kernelspec": {
      "name": "python3",
      "display_name": "Python 3"
    },
    "language_info": {
      "name": "python"
    }
  },
  "cells": [
    {
      "cell_type": "markdown",
      "metadata": {
        "id": "view-in-github",
        "colab_type": "text"
      },
      "source": [
        "<a href=\"https://colab.research.google.com/github/dawninwest/Mask-Data-API-Connect/blob/main/Mask_Data_API_Connect.ipynb\" target=\"_parent\"><img src=\"https://colab.research.google.com/assets/colab-badge.svg\" alt=\"Open In Colab\"/></a>"
      ]
    },
    {
      "cell_type": "code",
      "execution_count": 1,
      "metadata": {
        "colab": {
          "base_uri": "https://localhost:8080/"
        },
        "id": "uunC1_Ap_wLP",
        "outputId": "4445873a-d7a9-492e-f429-560d0629a46c"
      },
      "outputs": [
        {
          "output_type": "stream",
          "name": "stdout",
          "text": [
            "INSERT INTO pharmacies VALUES ('臺北市', 340, '2023-06-02 15:46:41.572369')\n",
            "INSERT INTO masks VALUES ('臺北市', 323660, '2023-06-02 15:46:41.572369')\n",
            "INSERT INTO pharmacies VALUES ('高雄市', 424, '2023-06-02 15:46:41.583285')\n",
            "INSERT INTO masks VALUES ('高雄市', 428940, '2023-06-02 15:46:41.583285')\n",
            "INSERT INTO pharmacies VALUES ('臺中市', 436, '2023-06-02 15:46:41.592959')\n",
            "INSERT INTO masks VALUES ('臺中市', 556440, '2023-06-02 15:46:41.592959')\n",
            "INSERT INTO pharmacies VALUES ('臺南市', 280, '2023-06-02 15:46:41.607135')\n",
            "INSERT INTO masks VALUES ('臺南市', 408400, '2023-06-02 15:46:41.607135')\n",
            "INSERT INTO pharmacies VALUES ('基隆市', 57, '2023-06-02 15:46:41.616412')\n",
            "INSERT INTO masks VALUES ('基隆市', 80100, '2023-06-02 15:46:41.616412')\n",
            "INSERT INTO pharmacies VALUES ('新竹市', 39, '2023-06-02 15:46:41.625503')\n",
            "INSERT INTO masks VALUES ('新竹市', 45630, '2023-06-02 15:46:41.625503')\n",
            "INSERT INTO pharmacies VALUES ('嘉義市', 67, '2023-06-02 15:46:41.635102')\n",
            "INSERT INTO masks VALUES ('嘉義市', 107840, '2023-06-02 15:46:41.635102')\n",
            "INSERT INTO pharmacies VALUES ('新北市', 507, '2023-06-02 15:46:41.645938')\n",
            "INSERT INTO masks VALUES ('新北市', 677660, '2023-06-02 15:46:41.645938')\n",
            "INSERT INTO pharmacies VALUES ('桃園市', 271, '2023-06-02 15:46:41.656091')\n",
            "INSERT INTO masks VALUES ('桃園市', 345600, '2023-06-02 15:46:41.656091')\n",
            "INSERT INTO pharmacies VALUES ('新竹縣', 48, '2023-06-02 15:46:41.667332')\n",
            "INSERT INTO masks VALUES ('新竹縣', 53760, '2023-06-02 15:46:41.667332')\n",
            "INSERT INTO pharmacies VALUES ('宜蘭縣', 76, '2023-06-02 15:46:41.677324')\n",
            "INSERT INTO masks VALUES ('宜蘭縣', 106900, '2023-06-02 15:46:41.677324')\n",
            "INSERT INTO pharmacies VALUES ('苗栗縣', 57, '2023-06-02 15:46:41.688424')\n",
            "INSERT INTO masks VALUES ('苗栗縣', 134180, '2023-06-02 15:46:41.688424')\n",
            "INSERT INTO pharmacies VALUES ('彰化縣', 181, '2023-06-02 15:46:41.697575')\n",
            "INSERT INTO masks VALUES ('彰化縣', 219400, '2023-06-02 15:46:41.697575')\n",
            "INSERT INTO pharmacies VALUES ('南投縣', 67, '2023-06-02 15:46:41.707453')\n",
            "INSERT INTO masks VALUES ('南投縣', 91240, '2023-06-02 15:46:41.707453')\n",
            "INSERT INTO pharmacies VALUES ('雲林縣', 131, '2023-06-02 15:46:41.716273')\n",
            "INSERT INTO masks VALUES ('雲林縣', 199470, '2023-06-02 15:46:41.716273')\n",
            "INSERT INTO pharmacies VALUES ('嘉義縣', 84, '2023-06-02 15:46:41.725777')\n",
            "INSERT INTO masks VALUES ('嘉義縣', 113180, '2023-06-02 15:46:41.725777')\n",
            "INSERT INTO pharmacies VALUES ('屏東縣', 140, '2023-06-02 15:46:41.736513')\n",
            "INSERT INTO masks VALUES ('屏東縣', 184250, '2023-06-02 15:46:41.736513')\n",
            "INSERT INTO pharmacies VALUES ('澎湖縣', 11, '2023-06-02 15:46:41.746139')\n",
            "INSERT INTO masks VALUES ('澎湖縣', 12600, '2023-06-02 15:46:41.746139')\n",
            "INSERT INTO pharmacies VALUES ('花蓮縣', 47, '2023-06-02 15:46:41.755543')\n",
            "INSERT INTO masks VALUES ('花蓮縣', 57330, '2023-06-02 15:46:41.755543')\n",
            "INSERT INTO pharmacies VALUES ('臺東縣', 23, '2023-06-02 15:46:41.765465')\n",
            "INSERT INTO masks VALUES ('臺東縣', 28510, '2023-06-02 15:46:41.765465')\n",
            "INSERT INTO pharmacies VALUES ('金門縣', 6, '2023-06-02 15:46:41.774643')\n",
            "INSERT INTO masks VALUES ('金門縣', 15510, '2023-06-02 15:46:41.774643')\n",
            "INSERT INTO pharmacies VALUES ('連江縣', 1, '2023-06-02 15:46:41.787369')\n",
            "INSERT INTO masks VALUES ('連江縣', 7930, '2023-06-02 15:46:41.787369')\n",
            "pharmacies: [('臺北市', '340', '2023-06-02 15:46:41.572369'), ('高雄市', '424', '2023-06-02 15:46:41.583285'), ('臺中市', '436', '2023-06-02 15:46:41.592959'), ('臺南市', '280', '2023-06-02 15:46:41.607135'), ('基隆市', '57', '2023-06-02 15:46:41.616412'), ('新竹市', '39', '2023-06-02 15:46:41.625503'), ('嘉義市', '67', '2023-06-02 15:46:41.635102'), ('新北市', '507', '2023-06-02 15:46:41.645938'), ('桃園市', '271', '2023-06-02 15:46:41.656091'), ('新竹縣', '48', '2023-06-02 15:46:41.667332'), ('宜蘭縣', '76', '2023-06-02 15:46:41.677324'), ('苗栗縣', '57', '2023-06-02 15:46:41.688424'), ('彰化縣', '181', '2023-06-02 15:46:41.697575'), ('南投縣', '67', '2023-06-02 15:46:41.707453'), ('雲林縣', '131', '2023-06-02 15:46:41.716273'), ('嘉義縣', '84', '2023-06-02 15:46:41.725777'), ('屏東縣', '140', '2023-06-02 15:46:41.736513'), ('澎湖縣', '11', '2023-06-02 15:46:41.746139'), ('花蓮縣', '47', '2023-06-02 15:46:41.755543'), ('臺東縣', '23', '2023-06-02 15:46:41.765465'), ('金門縣', '6', '2023-06-02 15:46:41.774643'), ('連江縣', '1', '2023-06-02 15:46:41.787369')]\n",
            "masks: [('臺北市', '323660', '2023-06-02 15:46:41.572369'), ('高雄市', '428940', '2023-06-02 15:46:41.583285'), ('臺中市', '556440', '2023-06-02 15:46:41.592959'), ('臺南市', '408400', '2023-06-02 15:46:41.607135'), ('基隆市', '80100', '2023-06-02 15:46:41.616412'), ('新竹市', '45630', '2023-06-02 15:46:41.625503'), ('嘉義市', '107840', '2023-06-02 15:46:41.635102'), ('新北市', '677660', '2023-06-02 15:46:41.645938'), ('桃園市', '345600', '2023-06-02 15:46:41.656091'), ('新竹縣', '53760', '2023-06-02 15:46:41.667332'), ('宜蘭縣', '106900', '2023-06-02 15:46:41.677324'), ('苗栗縣', '134180', '2023-06-02 15:46:41.688424'), ('彰化縣', '219400', '2023-06-02 15:46:41.697575'), ('南投縣', '91240', '2023-06-02 15:46:41.707453'), ('雲林縣', '199470', '2023-06-02 15:46:41.716273'), ('嘉義縣', '113180', '2023-06-02 15:46:41.725777'), ('屏東縣', '184250', '2023-06-02 15:46:41.736513'), ('澎湖縣', '12600', '2023-06-02 15:46:41.746139'), ('花蓮縣', '57330', '2023-06-02 15:46:41.755543'), ('臺東縣', '28510', '2023-06-02 15:46:41.765465'), ('金門縣', '15510', '2023-06-02 15:46:41.774643'), ('連江縣', '7930', '2023-06-02 15:46:41.787369')]\n"
          ]
        }
      ],
      "source": [
        "import requests\n",
        "import json\n",
        "import sqlite3\n",
        "import datetime\n",
        "\n",
        "conn = sqlite3.connect('example.db')\n",
        "c = conn.cursor()\n",
        "\n",
        "# 新增且清空資料表\n",
        "c.execute('''CREATE TABLE IF NOT EXISTS pharmacies\n",
        "             (city text, counts text, createdAt datetime)''')\n",
        "c.execute('''DELETE FROM pharmacies''')\n",
        "c.execute('''CREATE TABLE IF NOT EXISTS masks\n",
        "             (city text, counts text, createdAt datetime)''')\n",
        "c.execute('''DELETE FROM masks''')\n",
        "conn.commit()\n",
        "\n",
        "url =\"https://raw.githubusercontent.com/kiang/pharmacies/master/json/points.json\"\n",
        "response=requests.get(url)\n",
        "d=response.text\n",
        "data=json.loads(d)\n",
        "\n",
        "\n",
        "med_count={}\n",
        "mask_count = {}     \n",
        "        \n",
        "\n",
        "\n",
        "for d in data[\"features\"]:\n",
        "    county = d[\"properties\"][\"address\"][0:3]\n",
        "    if county not in med_count:\n",
        "        med_count[county] = 1\n",
        "        mask_count[county]=d[\"properties\"][\"mask_adult\"]\n",
        "    else:\n",
        "        med_count[county] += 1\n",
        "        mask_count[county]+=d[\"properties\"][\"mask_adult\"]\n",
        "    \n",
        "mask_count = dict(sorted(mask_count.items(), reverse=True, key=lambda item: item[1]))\n",
        "\n",
        "for i in list(med_count.keys()):\n",
        "    t = datetime.datetime.now()\n",
        "    print(f\"INSERT INTO pharmacies VALUES ('{i}', {med_count[i]}, '{t}')\")\n",
        "    print(f\"INSERT INTO masks VALUES ('{i}', {mask_count[i]}, '{t}')\")\n",
        "    c.execute(f\"INSERT INTO pharmacies VALUES ('{i}', {med_count[i]}, '{t}')\")\n",
        "    c.execute(f\"INSERT INTO masks VALUES ('{i}', {mask_count[i]}, '{t}')\")\n",
        "    conn.commit()\n",
        "    \n",
        "c.execute(\"SELECT * FROM pharmacies\")\n",
        "print(\"pharmacies:\",c.fetchall())\n",
        "c.execute(\"SELECT * FROM masks\")\n",
        "print(\"masks:\",c.fetchall())\n",
        "\n",
        "conn.commit()\n",
        "conn.close()\n"
      ]
    }
  ]
}